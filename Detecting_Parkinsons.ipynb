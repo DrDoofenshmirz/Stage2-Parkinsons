{
  "nbformat": 4,
  "nbformat_minor": 0,
  "metadata": {
    "colab": {
      "name": "Detecting Parkinsons.ipynb",
      "provenance": []
    },
    "kernelspec": {
      "name": "python3",
      "display_name": "Python 3"
    },
    "language_info": {
      "name": "python"
    }
  },
  "cells": [
    {
      "cell_type": "code",
      "metadata": {
        "id": "cqnIdhSALlZ5"
      },
      "source": [
        "\n",
        "import pandas as pd\n",
        "\n",
        "from sklearn.preprocessing import MinMaxScaler\n",
        "from xgboost import XGBClassifier\n",
        "from sklearn.model_selection import train_test_split\n",
        "from sklearn.metrics import accuracy_score"
      ],
      "execution_count": 19,
      "outputs": []
    },
    {
      "cell_type": "code",
      "metadata": {
        "colab": {
          "base_uri": "https://localhost:8080/"
        },
        "id": "a7xbhN4wL7WP",
        "outputId": "9f246e9c-c970-4787-a12b-b6694b906b78"
      },
      "source": [
        "data = pd.read_csv(\"/content/parkinsons.data\")\n",
        "data.head()\n",
        "data.shape\n"
      ],
      "execution_count": 18,
      "outputs": [
        {
          "output_type": "execute_result",
          "data": {
            "text/plain": [
              "(195, 24)"
            ]
          },
          "metadata": {},
          "execution_count": 18
        }
      ]
    },
    {
      "cell_type": "code",
      "metadata": {
        "colab": {
          "base_uri": "https://localhost:8080/"
        },
        "id": "62KdJzZaMTA7",
        "outputId": "72713f52-a363-4f91-aea1-6f3b64fb519c"
      },
      "source": [
        "X = data.drop(['status' , 'name'] , axis = 'columns')\n",
        "Y = data[['status']]\n",
        "X.shape\n"
      ],
      "execution_count": 10,
      "outputs": [
        {
          "output_type": "execute_result",
          "data": {
            "text/plain": [
              "(195, 22)"
            ]
          },
          "metadata": {},
          "execution_count": 10
        }
      ]
    },
    {
      "cell_type": "code",
      "metadata": {
        "id": "vHFz4NM5NEsz"
      },
      "source": [
        "scaler=MinMaxScaler((-1,1))\n",
        "x=scaler.fit_transform(X)\n"
      ],
      "execution_count": 6,
      "outputs": []
    },
    {
      "cell_type": "code",
      "metadata": {
        "colab": {
          "base_uri": "https://localhost:8080/"
        },
        "id": "7ElNTG8INFp1",
        "outputId": "b5f52338-c632-4f08-bc30-38f0d8823955"
      },
      "source": [
        "x[5]"
      ],
      "execution_count": 8,
      "outputs": [
        {
          "output_type": "execute_result",
          "data": {
            "text/plain": [
              "array([-0.62486319, -0.88153546, -0.44372287, -0.49174079, -0.4229249 ,\n",
              "       -0.6194605 , -0.29474812, -0.61984267, -0.31586635, -0.39030403,\n",
              "       -0.27850539, -0.19782904, -0.61344667, -0.27834125, -0.92634561,\n",
              "        0.05153215, -0.25804457,  0.99825502,  0.34592248,  0.31843528,\n",
              "       -0.32000189,  0.29750553])"
            ]
          },
          "metadata": {},
          "execution_count": 8
        }
      ]
    },
    {
      "cell_type": "code",
      "metadata": {
        "colab": {
          "base_uri": "https://localhost:8080/",
          "height": 224
        },
        "id": "ncU5sfuINnjQ",
        "outputId": "b8a39226-98a8-4fcc-e007-0ecceb5492de"
      },
      "source": [
        "Data= pd.DataFrame(x)\n",
        "Data.head()"
      ],
      "execution_count": 20,
      "outputs": [
        {
          "output_type": "execute_result",
          "data": {
            "text/html": [
              "<div>\n",
              "<style scoped>\n",
              "    .dataframe tbody tr th:only-of-type {\n",
              "        vertical-align: middle;\n",
              "    }\n",
              "\n",
              "    .dataframe tbody tr th {\n",
              "        vertical-align: top;\n",
              "    }\n",
              "\n",
              "    .dataframe thead th {\n",
              "        text-align: right;\n",
              "    }\n",
              "</style>\n",
              "<table border=\"1\" class=\"dataframe\">\n",
              "  <thead>\n",
              "    <tr style=\"text-align: right;\">\n",
              "      <th></th>\n",
              "      <th>0</th>\n",
              "      <th>1</th>\n",
              "      <th>2</th>\n",
              "      <th>3</th>\n",
              "      <th>4</th>\n",
              "      <th>5</th>\n",
              "      <th>6</th>\n",
              "      <th>7</th>\n",
              "      <th>8</th>\n",
              "      <th>9</th>\n",
              "      <th>10</th>\n",
              "      <th>11</th>\n",
              "      <th>12</th>\n",
              "      <th>13</th>\n",
              "      <th>14</th>\n",
              "      <th>15</th>\n",
              "      <th>16</th>\n",
              "      <th>17</th>\n",
              "      <th>18</th>\n",
              "      <th>19</th>\n",
              "      <th>20</th>\n",
              "      <th>21</th>\n",
              "    </tr>\n",
              "  </thead>\n",
              "  <tbody>\n",
              "    <tr>\n",
              "      <th>0</th>\n",
              "      <td>-0.631383</td>\n",
              "      <td>-0.774817</td>\n",
              "      <td>-0.890370</td>\n",
              "      <td>-0.608640</td>\n",
              "      <td>-0.501976</td>\n",
              "      <td>-0.709056</td>\n",
              "      <td>-0.504823</td>\n",
              "      <td>-0.709424</td>\n",
              "      <td>-0.375571</td>\n",
              "      <td>-0.439606</td>\n",
              "      <td>-0.334746</td>\n",
              "      <td>-0.305292</td>\n",
              "      <td>-0.655104</td>\n",
              "      <td>-0.334831</td>\n",
              "      <td>-0.863386</td>\n",
              "      <td>0.023490</td>\n",
              "      <td>-0.261689</td>\n",
              "      <td>0.920297</td>\n",
              "      <td>0.139750</td>\n",
              "      <td>0.171530</td>\n",
              "      <td>-0.218677</td>\n",
              "      <td>-0.005381</td>\n",
              "    </tr>\n",
              "    <tr>\n",
              "      <th>1</th>\n",
              "      <td>-0.603346</td>\n",
              "      <td>-0.810139</td>\n",
              "      <td>-0.443354</td>\n",
              "      <td>-0.491741</td>\n",
              "      <td>-0.422925</td>\n",
              "      <td>-0.617534</td>\n",
              "      <td>-0.352626</td>\n",
              "      <td>-0.617916</td>\n",
              "      <td>-0.054227</td>\n",
              "      <td>-0.110929</td>\n",
              "      <td>0.031972</td>\n",
              "      <td>0.071370</td>\n",
              "      <td>-0.441152</td>\n",
              "      <td>0.032097</td>\n",
              "      <td>-0.881338</td>\n",
              "      <td>-0.134845</td>\n",
              "      <td>-0.058339</td>\n",
              "      <td>0.954049</td>\n",
              "      <td>0.406554</td>\n",
              "      <td>0.482674</td>\n",
              "      <td>-0.053710</td>\n",
              "      <td>0.342652</td>\n",
              "    </tr>\n",
              "    <tr>\n",
              "      <th>2</th>\n",
              "      <td>-0.669923</td>\n",
              "      <td>-0.881744</td>\n",
              "      <td>-0.469423</td>\n",
              "      <td>-0.439644</td>\n",
              "      <td>-0.343874</td>\n",
              "      <td>-0.541426</td>\n",
              "      <td>-0.261522</td>\n",
              "      <td>-0.541178</td>\n",
              "      <td>-0.218733</td>\n",
              "      <td>-0.347576</td>\n",
              "      <td>-0.113251</td>\n",
              "      <td>-0.107734</td>\n",
              "      <td>-0.560303</td>\n",
              "      <td>-0.113365</td>\n",
              "      <td>-0.920807</td>\n",
              "      <td>-0.007559</td>\n",
              "      <td>-0.191168</td>\n",
              "      <td>1.000000</td>\n",
              "      <td>0.273489</td>\n",
              "      <td>0.372742</td>\n",
              "      <td>-0.182361</td>\n",
              "      <td>0.193365</td>\n",
              "    </tr>\n",
              "    <tr>\n",
              "      <th>3</th>\n",
              "      <td>-0.669993</td>\n",
              "      <td>-0.854145</td>\n",
              "      <td>-0.471599</td>\n",
              "      <td>-0.473316</td>\n",
              "      <td>-0.343874</td>\n",
              "      <td>-0.581888</td>\n",
              "      <td>-0.350482</td>\n",
              "      <td>-0.582276</td>\n",
              "      <td>-0.171444</td>\n",
              "      <td>-0.290058</td>\n",
              "      <td>-0.048921</td>\n",
              "      <td>-0.067843</td>\n",
              "      <td>-0.532430</td>\n",
              "      <td>-0.049044</td>\n",
              "      <td>-0.918006</td>\n",
              "      <td>-0.008128</td>\n",
              "      <td>-0.167490</td>\n",
              "      <td>0.951770</td>\n",
              "      <td>0.391255</td>\n",
              "      <td>0.476177</td>\n",
              "      <td>-0.126046</td>\n",
              "      <td>0.343899</td>\n",
              "    </tr>\n",
              "    <tr>\n",
              "      <th>4</th>\n",
              "      <td>-0.677701</td>\n",
              "      <td>-0.838182</td>\n",
              "      <td>-0.479786</td>\n",
              "      <td>-0.290978</td>\n",
              "      <td>-0.185771</td>\n",
              "      <td>-0.434489</td>\n",
              "      <td>-0.125402</td>\n",
              "      <td>-0.434259</td>\n",
              "      <td>-0.001095</td>\n",
              "      <td>-0.179951</td>\n",
              "      <td>0.169106</td>\n",
              "      <td>0.154681</td>\n",
              "      <td>-0.426296</td>\n",
              "      <td>0.169085</td>\n",
              "      <td>-0.891651</td>\n",
              "      <td>-0.089003</td>\n",
              "      <td>-0.249682</td>\n",
              "      <td>0.985626</td>\n",
              "      <td>0.524944</td>\n",
              "      <td>0.027597</td>\n",
              "      <td>-0.191329</td>\n",
              "      <td>0.515223</td>\n",
              "    </tr>\n",
              "  </tbody>\n",
              "</table>\n",
              "</div>"
            ],
            "text/plain": [
              "         0         1         2   ...        19        20        21\n",
              "0 -0.631383 -0.774817 -0.890370  ...  0.171530 -0.218677 -0.005381\n",
              "1 -0.603346 -0.810139 -0.443354  ...  0.482674 -0.053710  0.342652\n",
              "2 -0.669923 -0.881744 -0.469423  ...  0.372742 -0.182361  0.193365\n",
              "3 -0.669993 -0.854145 -0.471599  ...  0.476177 -0.126046  0.343899\n",
              "4 -0.677701 -0.838182 -0.479786  ...  0.027597 -0.191329  0.515223\n",
              "\n",
              "[5 rows x 22 columns]"
            ]
          },
          "metadata": {},
          "execution_count": 20
        }
      ]
    },
    {
      "cell_type": "code",
      "metadata": {
        "colab": {
          "base_uri": "https://localhost:8080/"
        },
        "id": "ow236ku9OLBJ",
        "outputId": "a5cf7b8e-a320-4611-e4d3-9a6a5f306837"
      },
      "source": [
        "x_.shape"
      ],
      "execution_count": 11,
      "outputs": [
        {
          "output_type": "execute_result",
          "data": {
            "text/plain": [
              "(195, 22)"
            ]
          },
          "metadata": {},
          "execution_count": 11
        }
      ]
    },
    {
      "cell_type": "code",
      "metadata": {
        "id": "MEwASMqVOSHB"
      },
      "source": [
        "x_train,x_test , y_train , y_test = train_test_split(x , Y  , test_size = 0.2)"
      ],
      "execution_count": 15,
      "outputs": []
    },
    {
      "cell_type": "code",
      "metadata": {
        "id": "SdISv3fYPeVQ"
      },
      "source": [
        "y=scaler.fit_transform(Y)\n",
        "Y = pd.DataFrame(y)"
      ],
      "execution_count": 14,
      "outputs": []
    },
    {
      "cell_type": "code",
      "metadata": {
        "colab": {
          "base_uri": "https://localhost:8080/"
        },
        "id": "o4d6H0T-PE7r",
        "outputId": "21199452-b242-4875-a043-27c6e8205c7d"
      },
      "source": [
        "model = XGBClassifier() # calling the classifier\n",
        "model.fit(x_train , y_train) #fitting the model ( training the dataset)\n",
        "predictions = model.predict(x_test) # Making the trained model predict parkinsons predictions from test dataset \n",
        "accuracy_score(predictions , y_test) "
      ],
      "execution_count": 17,
      "outputs": [
        {
          "output_type": "stream",
          "name": "stderr",
          "text": [
            "/usr/local/lib/python3.7/dist-packages/sklearn/preprocessing/_label.py:235: DataConversionWarning: A column-vector y was passed when a 1d array was expected. Please change the shape of y to (n_samples, ), for example using ravel().\n",
            "  y = column_or_1d(y, warn=True)\n",
            "/usr/local/lib/python3.7/dist-packages/sklearn/preprocessing/_label.py:268: DataConversionWarning: A column-vector y was passed when a 1d array was expected. Please change the shape of y to (n_samples, ), for example using ravel().\n",
            "  y = column_or_1d(y, warn=True)\n"
          ]
        },
        {
          "output_type": "execute_result",
          "data": {
            "text/plain": [
              "0.9487179487179487"
            ]
          },
          "metadata": {},
          "execution_count": 17
        }
      ]
    },
    {
      "cell_type": "code",
      "metadata": {
        "id": "IebYG8hVPwzh"
      },
      "source": [
        ""
      ],
      "execution_count": null,
      "outputs": []
    }
  ]
}